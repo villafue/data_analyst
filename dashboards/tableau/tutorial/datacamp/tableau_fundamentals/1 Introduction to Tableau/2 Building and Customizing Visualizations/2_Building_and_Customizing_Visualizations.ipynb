{
  "nbformat": 4,
  "nbformat_minor": 0,
  "metadata": {
    "colab": {
      "name": "2 Building and Customizing Visualizations.ipynb",
      "provenance": [],
      "authorship_tag": "ABX9TyPmEo8ZMMlvmuXmmeBcNqu1",
      "include_colab_link": true
    },
    "kernelspec": {
      "name": "python3",
      "display_name": "Python 3"
    },
    "language_info": {
      "name": "python"
    }
  },
  "cells": [
    {
      "cell_type": "markdown",
      "metadata": {
        "id": "view-in-github",
        "colab_type": "text"
      },
      "source": [
        "<a href=\"https://colab.research.google.com/github/villafue/data_analyst/blob/main/dashboards/tableau/tutorial/datacamp/tableau_fundamentals/1%20Introduction%20to%20Tableau/2%20Building%20and%20Customizing%20Visualizations/2_Building_and_Customizing_Visualizations.ipynb\" target=\"_parent\"><img src=\"https://colab.research.google.com/assets/colab-badge.svg\" alt=\"Open In Colab\"/></a>"
      ]
    },
    {
      "cell_type": "markdown",
      "metadata": {
        "id": "zNCRQnUfTx8P"
      },
      "source": [
        "# Building and Customizing Visualizations\n",
        "\n",
        "Let’s take it up a level and review the core concepts required for analyzing and exploring data in Tableau. You’ll learn how to slice and dice data with filters, create new columns using your own calculated fields, and aggregate dimensions and measures in a view. You will be working with education, social and infrastructure data."
      ]
    },
    {
      "cell_type": "code",
      "metadata": {
        "id": "1RdCXnPDTp_k"
      },
      "source": [
        ""
      ],
      "execution_count": null,
      "outputs": []
    }
  ]
}