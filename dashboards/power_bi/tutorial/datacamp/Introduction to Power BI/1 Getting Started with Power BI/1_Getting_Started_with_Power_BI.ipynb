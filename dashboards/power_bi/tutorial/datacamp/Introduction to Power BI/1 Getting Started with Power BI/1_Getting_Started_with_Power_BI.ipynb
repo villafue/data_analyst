{
  "nbformat": 4,
  "nbformat_minor": 0,
  "metadata": {
    "colab": {
      "name": "1 Getting Started with Power BI.ipynb",
      "provenance": [],
      "authorship_tag": "ABX9TyONov+4WXlz16yp2hEgyBus",
      "include_colab_link": true
    },
    "kernelspec": {
      "name": "python3",
      "display_name": "Python 3"
    },
    "language_info": {
      "name": "python"
    }
  },
  "cells": [
    {
      "cell_type": "markdown",
      "metadata": {
        "id": "view-in-github",
        "colab_type": "text"
      },
      "source": [
        "<a href=\"https://colab.research.google.com/github/villafue/data_analyst/blob/main/dashboards/power_bi/tutorial/datacamp/Introduction%20to%20Power%20BI/1%20Getting%20Started%20with%20Power%20BI/1_Getting_Started_with_Power_BI.ipynb\" target=\"_parent\"><img src=\"https://colab.research.google.com/assets/colab-badge.svg\" alt=\"Open In Colab\"/></a>"
      ]
    },
    {
      "cell_type": "markdown",
      "source": [
        "Getting Started with Power BI\n",
        "\n",
        "Discover how to navigate this intuitive tool and get to grips with Power BI’s Data, Model, and Report views. You’ll load multiple datasets in the Data view, build a data model to understand the relationships between your tables in Model view, and create your first bar graph and interactive map visualization in Report view. You’ll also practice using Power Query Editor to prep your data for analysis."
      ],
      "metadata": {
        "id": "lR7w8GSxHv43"
      }
    },
    {
      "cell_type": "markdown",
      "source": [
        ""
      ],
      "metadata": {
        "id": "AjIYNrdgHvzx"
      }
    },
    {
      "cell_type": "markdown",
      "source": [
        ""
      ],
      "metadata": {
        "id": "L08CkIAeHvrQ"
      }
    },
    {
      "cell_type": "code",
      "execution_count": null,
      "metadata": {
        "id": "ChSTcQMtHfM-"
      },
      "outputs": [],
      "source": [
        ""
      ]
    }
  ]
}